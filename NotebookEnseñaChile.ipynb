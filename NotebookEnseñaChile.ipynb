{
 "cells": [
  {
   "cell_type": "markdown",
   "metadata": {
    "id": "xaUKLhveCrJa"
   },
   "source": [
    "# Proyecto Enseña Chile – Análisis de Reclutamiento\n",
    "\n",
    "Este notebook tiene como objetivo analizar datos históricos de postulantes a Enseña Chile y cruzarlos con información externa del MINEDUC para identificar universidades y carreras con mayor concentración de candidatos idóneos, ayudando así a mejorar el proceso de reclutamiento.\n",
    "\n",
    "## Objetivos específicos:\n",
    "1. Caracterizar históricamente a postulantes y seleccionados.\n",
    "2. Analizar la relación universidad-carrera-selección.\n",
    "3. Identificar universidades y carreras prioritarias.\n",
    "4. Proponer una categorización en niveles de prioridad."
   ]
  },
  {
   "cell_type": "markdown",
   "metadata": {
    "id": "EAm7yreLXyQP"
   },
   "source": [
    "# Entrega Inicial del Repositorio"
   ]
  },
  {
   "cell_type": "markdown",
   "metadata": {
    "id": "D_neaquLYAQE"
   },
   "source": [
    "## Contexto y motivación"
   ]
  },
  {
   "cell_type": "markdown",
   "metadata": {
    "id": "SHqBx9lrY_rg"
   },
   "source": [
    "Enseña Chile es una fundación que busca atraer profesionales talentosos al mundo educativo para\n",
    "generar un impacto real en las comunidades escolares más vulnerables del país.\n",
    "\n",
    "No obstante, sus procesos de postulación enfrentan desafíos importantes: la tasa de aceptación suele\n",
    "ser baja y los perfiles de quienes postulan parecen ser bastante heterogéneos.\n",
    "\n",
    "Este proyecto apunta a utilizar los datos históricos de postulaciones de Enseña Chile, junto con\n",
    "información universitaria disponible en fuentes públicas como el MINEDUC, para detectar patrones,\n",
    "brechas y oportunidades de mejora en el reclutamiento y selección del programa. La idea es elaborar\n",
    "recomendaciones estratégicas que ayuden a la Fundación a focalizar mejor sus esfuerzos, diversificar\n",
    "el perfil de candidatos y aumentar la probabilidad de éxito en las postulaciones.\n",
    "\n",
    "La audiencia principal de este trabajo está compuesta por el equipo de gestión de Enseña Chile, aunque\n",
    "también busca ser un aporte para investigadores y responsables de políticas educativas interesados en\n",
    "comprender con mayor claridad cómo se distribuye el talento docente potencial en el país."
   ]
  },
  {
   "cell_type": "markdown",
   "metadata": {
    "id": "oZfdg9cBYGc_"
   },
   "source": [
    "## Preguntas objetivo\n",
    "\n",
    "¿Qué características académicas y sociodemográficas se correlacionan con un mayor éxito en el proceso de selección de Enseña Chile?\n",
    "\n",
    "¿Existen universidades o carreras que presenten consistentemente una mayor proporción de postulantes aceptados?\n",
    "\n",
    "¿Qué regiones del país presentan menor participación o tasa de éxito en postulaciones?\n",
    "\n",
    "¿Es posible construir un modelo predictivo que estime la probabilidad de éxito de un postulante en función de sus características iniciales?\n",
    "\n",
    "¿Cómo se pueden utilizar estos hallazgos para focalizar los esfuerzos de reclutamiento y reducir posibles sesgos hacia ciertas instituciones de elite?"
   ]
  },
  {
   "cell_type": "markdown",
   "metadata": {
    "id": "1bkPH3qqYL6N"
   },
   "source": [
    "## Datos"
   ]
  },
  {
   "cell_type": "markdown",
   "metadata": {
    "id": "Cqd6AL2gZiPP"
   },
   "source": [
    "Datos internos de Enseña Chile:\n",
    "- Registros históricos de postulaciones: Los principales datos a usar, originalmente en formato xls, contiene un total de 15 columnas:\n",
    "  \n",
    "    - Año Pech                      Int64  [2021, 2020, 2022, 2009, 2010, 2011, 2012, 2013, 2014, 2015, 2016, 2017,2018, 2019, 2023, 2024, 2025, 2030]\n",
    "    -  Generación                    float64  [2009., 2010., 2011., 2012., 2013., 2014., 2015., 2016., 2017., 2018., 2019., 2020., 2022.,  2021., 2023., 2024., 2025., 2030.]\n",
    "    - \\# Proceso                       float64 [1, 2]\n",
    "    - Proceso                       float64 [0, 1, 2, 3, 4, 5, 6, 7, 8, 9, 10, 11]\n",
    "     - Edad                          float64  [  37.,   29.,   31.,   30.,   35.,   28.,   33.,   34.,   36.,\n",
    "         40.,   26.,   54.,   41.,   24.,   38.,   27.,   32.,   52.,\n",
    "         39.,   43.,   60.,   23.,   25.,   65.,   61.,    1.,   45.,\n",
    "         53.,   44.,   57.,   50.,   46.,   67.,   48.,   42.,   47.,\n",
    "         nan,   63.,   56.,   51.,   49.,   59.,   71.,   64.,   66.,\n",
    "         55.,   58.,   70.,   62.,   73.,   75.,   77.,   19.,   68.,\n",
    "         76.,   72.,   22.,   69.,    0.,   21.,   12.,   74.,   79.,\n",
    "         78.,   11.,   84.,   81.,   13.,   10.,    5.,   89.,  125.,\n",
    "          6.,    7.,    8.,    4.,  117.,  -38.,  -42.,   18.,  128.,\n",
    "          3.,   15.,  -31.,  -41.,    2.,  -24.,  -32.,  -13.,  131.,\n",
    "        -34.,  -27.,  -26.,  -19.,  102.,  -29.,  -36.,   80.,  -44.,\n",
    "        -28.,   82., -950., -937.,  -37.]\n",
    "     - Resumen Estado Postulación    object ['Seleccionado', 'En proceso de selección', 'Fuera del proceso', None, 'Incompleta']\n",
    "    -  Estado de la Postulación      object ['Acepta compromiso peCh', 'Posterga compromiso', 'Renuncia',\n",
    "       'Aceptado a EG', 'No llega EG', 'Rechazado en PR',\n",
    "       'Rechazado en EG', 'No cumple requisito habilitación', 'Sin cupo',\n",
    "       'Abandona EG', 'Rechazado en DE', 'Rechaza oferta eCh',\n",
    "       'Fuera del segmento de enfoque eCh', 'Abandona EP',\n",
    "       'Desvinculado por eCh', 'No llega EP', 'No se acepta posterga',\n",
    "       'Aceptado en DE', 'Aceptado a EP', 'Postulación Completa',\n",
    "       'Postulación incompleta', 'Sin revisar', 'Aceptado a ET',\n",
    "       'Aceptado a DE', 'Abandona DE', 'No cumple requisito PSU',\n",
    "       'Rechazado en ET', 'Abandona ET', 'No llega a DE', 'Congelado',\n",
    "       'No llega a ET', 'Renuncia a oferta', None]\n",
    "    -  Nombre                        object\n",
    "     - Apellidos                     object\n",
    "     - Universidad                   object\n",
    "    - Universidad (old)             object\n",
    "    - Carrera                       object\n",
    "   -  Carrera.1                      object\n",
    "    - Otra Carrera                    object\n",
    "     - Otra carrera, ¿Cuál?           object\n",
    "\n",
    "memory usage: 8.3+ MB\n",
    "\n",
    "- Significado siglas\n",
    "    - DE: Día de Entrevista (Etapa de selección antingua)\n",
    "    - PR: Primera Revisión (Formulario: filtro 1)\n",
    "    - ET: Entrevista Telefónica (filtro 1.1)\n",
    "    - EG: Entrevista Grupal (filtro 2)\n",
    "    - EP: Entrevista Personal (filtro 3)\n",
    "\n",
    "\n",
    "\n",
    "\n",
    "\n",
    "\n",
    "\n",
    "\n",
    "Datos externos (fuentes públicas):\n",
    "- Distribución de estudiantes universitarios por institución, región y carrera.\n",
    "- Información de equidad y brechas (ej. género, tipo de institución).\n",
    "\n",
    "Datos DEMRE:\n",
    "- Puntajes PAES de matrícula, por año, provistos por datos abiertos del Departamento de\n",
    "Medición, Evaluación y Registro Educacional de la Universidad de Chile.\n",
    "\n"
   ]
  },
  {
   "cell_type": "markdown",
   "metadata": {
    "id": "GO8x7XAzYQhE"
   },
   "source": [
    "## Análisis exploratorio de los datos"
   ]
  },
  {
   "cell_type": "markdown",
   "metadata": {
    "id": "BaHD3PNHDCwh"
   },
   "source": [
    "# 1 Configuracion inicial"
   ]
  },
  {
   "cell_type": "markdown",
   "metadata": {
    "id": "vx7TLdRDKgpm"
   },
   "source": [
    "## 1.1 Bibliotecas"
   ]
  },
  {
   "cell_type": "code",
   "execution_count": 1,
   "metadata": {},
   "outputs": [
    {
     "name": "stdout",
     "output_type": "stream",
     "text": [
      "Requirement already satisfied: lxml in c:\\users\\sebap\\appdata\\local\\programs\\python\\python312\\lib\\site-packages (6.0.2)\n"
     ]
    }
   ],
   "source": [
    "!pip install lxml"
   ]
  },
  {
   "cell_type": "code",
   "execution_count": 2,
   "metadata": {},
   "outputs": [
    {
     "name": "stdout",
     "output_type": "stream",
     "text": [
      "Requirement already satisfied: python-magic in c:\\users\\sebap\\appdata\\local\\programs\\python\\python312\\lib\\site-packages (0.4.27)\n"
     ]
    }
   ],
   "source": [
    "!pip install python-magic"
   ]
  },
  {
   "cell_type": "code",
   "execution_count": 3,
   "metadata": {},
   "outputs": [
    {
     "name": "stdout",
     "output_type": "stream",
     "text": [
      "Requirement already satisfied: python-magic-bin in c:\\users\\sebap\\appdata\\local\\programs\\python\\python312\\lib\\site-packages (0.4.14)\n"
     ]
    }
   ],
   "source": [
    "!pip install python-magic-bin"
   ]
  },
  {
   "cell_type": "markdown",
   "metadata": {
    "id": "ofwpBdgSYJlZ"
   },
   "source": [
    "Este notebook se desarrolló en Google Colab, donde el almacenamiento de archivos es solo temporal, por tanto, para que no tuvieramos que subir los archivos necesarios cada vez que quisieramos correr el notebook, usamos la libreria `gdown` para automatizar la descarga de archivos desde nuestra carpeta del proyecto en Google Drive."
   ]
  },
  {
   "cell_type": "code",
   "execution_count": 4,
   "metadata": {
    "ExecuteTime": {
     "end_time": "2025-10-21T23:47:04.363515Z",
     "start_time": "2025-10-21T23:47:00.655752Z"
    },
    "colab": {
     "base_uri": "https://localhost:8080/"
    },
    "executionInfo": {
     "elapsed": 10692,
     "status": "ok",
     "timestamp": 1761069986506,
     "user": {
      "displayName": "FRANCISCO MAUREIRA",
      "userId": "13842403936807031141"
     },
     "user_tz": 180
    },
    "id": "dQQbsZlhraVr",
    "outputId": "81170954-a24e-406b-e891-c2aa96d00961"
   },
   "outputs": [
    {
     "name": "stdout",
     "output_type": "stream",
     "text": [
      "Requirement already satisfied: gdown in c:\\users\\sebap\\appdata\\local\\programs\\python\\python312\\lib\\site-packages (5.2.0)\n",
      "Requirement already satisfied: beautifulsoup4 in c:\\users\\sebap\\appdata\\local\\programs\\python\\python312\\lib\\site-packages (from gdown) (4.13.4)\n",
      "Requirement already satisfied: filelock in c:\\users\\sebap\\appdata\\local\\programs\\python\\python312\\lib\\site-packages (from gdown) (3.20.0)\n",
      "Requirement already satisfied: requests[socks] in c:\\users\\sebap\\appdata\\local\\programs\\python\\python312\\lib\\site-packages (from gdown) (2.32.4)\n",
      "Requirement already satisfied: tqdm in c:\\users\\sebap\\appdata\\local\\programs\\python\\python312\\lib\\site-packages (from gdown) (4.67.1)\n",
      "Requirement already satisfied: soupsieve>1.2 in c:\\users\\sebap\\appdata\\local\\programs\\python\\python312\\lib\\site-packages (from beautifulsoup4->gdown) (2.7)\n",
      "Requirement already satisfied: typing-extensions>=4.0.0 in c:\\users\\sebap\\appdata\\local\\programs\\python\\python312\\lib\\site-packages (from beautifulsoup4->gdown) (4.14.1)\n",
      "Requirement already satisfied: charset_normalizer<4,>=2 in c:\\users\\sebap\\appdata\\local\\programs\\python\\python312\\lib\\site-packages (from requests[socks]->gdown) (3.4.2)\n",
      "Requirement already satisfied: idna<4,>=2.5 in c:\\users\\sebap\\appdata\\local\\programs\\python\\python312\\lib\\site-packages (from requests[socks]->gdown) (3.10)\n",
      "Requirement already satisfied: urllib3<3,>=1.21.1 in c:\\users\\sebap\\appdata\\local\\programs\\python\\python312\\lib\\site-packages (from requests[socks]->gdown) (2.5.0)\n",
      "Requirement already satisfied: certifi>=2017.4.17 in c:\\users\\sebap\\appdata\\local\\programs\\python\\python312\\lib\\site-packages (from requests[socks]->gdown) (2025.8.3)\n",
      "Requirement already satisfied: PySocks!=1.5.7,>=1.5.6 in c:\\users\\sebap\\appdata\\local\\programs\\python\\python312\\lib\\site-packages (from requests[socks]->gdown) (1.7.1)\n",
      "Requirement already satisfied: colorama in c:\\users\\sebap\\appdata\\local\\programs\\python\\python312\\lib\\site-packages (from tqdm->gdown) (0.4.6)\n"
     ]
    }
   ],
   "source": [
    "!pip install gdown\n",
    "import gdown"
   ]
  },
  {
   "cell_type": "code",
   "execution_count": 5,
   "metadata": {
    "ExecuteTime": {
     "end_time": "2025-10-21T23:47:00.640620Z",
     "start_time": "2025-10-21T23:47:00.635621Z"
    },
    "id": "MmbnckTkDITk"
   },
   "outputs": [],
   "source": [
    "import magic\n",
    "from pathlib import Path\n",
    "import pandas as pd\n",
    "import numpy as np\n",
    "import matplotlib.pyplot as plt\n",
    "import seaborn as sns\n",
    "from IPython.display import Image\n",
    "import json"
   ]
  },
  {
   "cell_type": "code",
   "execution_count": 6,
   "metadata": {
    "ExecuteTime": {
     "end_time": "2025-10-21T23:47:04.517617Z",
     "start_time": "2025-10-21T23:47:04.510594Z"
    },
    "id": "n8pn0vmHr9CB"
   },
   "outputs": [],
   "source": [
    "# Configuraciones de visualizacion\n",
    "pd.set_option('display.max_columns', None)\n",
    "sns.set_theme(style=\"whitegrid\")"
   ]
  },
  {
   "cell_type": "markdown",
   "metadata": {
    "id": "pVo7H6KKKxx8"
   },
   "source": [
    "## 1.2 Descarga de archivos"
   ]
  },
  {
   "cell_type": "code",
   "execution_count": 7,
   "metadata": {
    "ExecuteTime": {
     "end_time": "2025-10-21T23:47:04.599630Z",
     "start_time": "2025-10-21T23:47:04.592629Z"
    },
    "id": "7NE8JdUrbuuS"
   },
   "outputs": [],
   "source": [
    "url_drive = \"https://drive.google.com/uc?id=\""
   ]
  },
  {
   "cell_type": "code",
   "execution_count": 13,
   "metadata": {
    "ExecuteTime": {
     "end_time": "2025-10-21T23:47:09.773489Z",
     "start_time": "2025-10-21T23:47:04.661774Z"
    },
    "colab": {
     "base_uri": "https://localhost:8080/",
     "height": 104
    },
    "executionInfo": {
     "elapsed": 7902,
     "status": "ok",
     "timestamp": 1761069994439,
     "user": {
      "displayName": "FRANCISCO MAUREIRA",
      "userId": "13842403936807031141"
     },
     "user_tz": 180
    },
    "id": "H54fQq84YF4g",
    "outputId": "3ca6ed03-3a33-40b0-b869-bd13ba082913"
   },
   "outputs": [],
   "source": [
    "por_descargar = {'1hrwPpacqX8hg41KQG_7Yr-jhVPmYCSLr': Path(\"datasets/Postulaciones historicas ECh ORIGINAL.xls\"),\n",
    "                 '1apwRW4Evdr1vuPeOawA_oIef1_ay_Hco': Path(\"datasets/Postulaciones historicas ECh.csv\"),\n",
    "                 '1hePtnwicwz_fv-hwF7S_3bRIwvb7gfC3': Path(\"imagenes/ultimas filas.png\"),\n",
    "                 '12SGs7YOE4uzXqX3MpwZDUpk_IviKAvkI': Path(\"mapeos/carreras.json\")}\n",
    "                #'1NV_TQSis9q7Btoaa7Wmvgc9XCWQ4Xtaz': Path(\"datasets/titulados.csv\")"
   ]
  },
  {
   "cell_type": "code",
   "execution_count": 20,
   "metadata": {
    "ExecuteTime": {
     "end_time": "2025-10-21T23:47:12.432447Z",
     "start_time": "2025-10-21T23:47:09.833995Z"
    },
    "colab": {
     "base_uri": "https://localhost:8080/",
     "height": 104
    },
    "executionInfo": {
     "elapsed": 3324,
     "status": "ok",
     "timestamp": 1761069997768,
     "user": {
      "displayName": "FRANCISCO MAUREIRA",
      "userId": "13842403936807031141"
     },
     "user_tz": 180
    },
    "id": "EyUD0ZPIabSg",
    "outputId": "76339aba-b74a-43f4-82e2-84d32e23455f"
   },
   "outputs": [
    {
     "name": "stdout",
     "output_type": "stream",
     "text": [
      "Descargando \"Postulaciones historicas ECh ORIGINAL.xls\"...\n",
      "Descarga completa\n",
      "\n",
      "Descargando \"Postulaciones historicas ECh.csv\"...\n",
      "Descarga completa\n",
      "\n",
      "Descargando \"ultimas filas.png\"...\n",
      "Descarga completa\n",
      "\n",
      "Descargando \"carreras.json\"...\n",
      "Descarga completa\n",
      "\n"
     ]
    }
   ],
   "source": [
    "for id_archivo, ruta_archivo in por_descargar.items():\n",
    "    # Obtenemos el directorio padre\n",
    "    directorio_padre = ruta_archivo.parent \n",
    "    \n",
    "    # Creamos el directorio\n",
    "    directorio_padre.mkdir(parents=True, exist_ok=True)\n",
    "    \n",
    "    # Abrir en modo binario\n",
    "    with ruta_archivo.open(\"wb\") as archivo:\n",
    "        print(f'Descargando \"{ruta_archivo.name}\"...')\n",
    "        gdown.download(url_drive + id_archivo, archivo, quiet=True)\n",
    "        print('Descarga completa\\n')"
   ]
  },
  {
   "cell_type": "markdown",
   "metadata": {
    "id": "6KnVZ4RNE_uV"
   },
   "source": [
    "# 2 Carga y Exploración Inicial de los Datos"
   ]
  },
  {
   "cell_type": "markdown",
   "metadata": {
    "id": "CRXGmk_9Hgjf"
   },
   "source": [
    "## 2.1 Postulantes"
   ]
  },
  {
   "cell_type": "markdown",
   "metadata": {
    "id": "ChcWHe1bLoPu"
   },
   "source": [
    "### 2.1.1 Crear DataFrame"
   ]
  },
  {
   "cell_type": "markdown",
   "metadata": {
    "id": "HgCaeQ5gz1Kx"
   },
   "source": [
    "El archivo que nos entregaron tiene extensión `.xls`, formato usado desde Excel 97 a Excel 2003, predecesor del actual `.xlsx` introducido en Excel 2007. <br>\n",
    "Intentamos cargarlo con `read_excel()`"
   ]
  },
  {
   "cell_type": "code",
   "execution_count": null,
   "metadata": {
    "ExecuteTime": {
     "end_time": "2025-10-21T23:47:16.555088Z",
     "start_time": "2025-10-21T23:47:16.547082Z"
    },
    "colab": {
     "base_uri": "https://localhost:8080/"
    },
    "executionInfo": {
     "elapsed": 350,
     "status": "ok",
     "timestamp": 1761070002165,
     "user": {
      "displayName": "FRANCISCO MAUREIRA",
      "userId": "13842403936807031141"
     },
     "user_tz": 180
    },
    "id": "CKthntnEwvlM",
    "outputId": "b0e0b4c5-20c2-4dbb-ee8e-dc1023efe654"
   },
   "outputs": [],
   "source": [
    "try:\n",
    "    df_postulantes = pd.read_excel(ruta_xls)\n",
    "except Exception as e:\n",
    "    print(f\"{type(e).__name__}: {e}\")"
   ]
  },
  {
   "cell_type": "markdown",
   "metadata": {
    "id": "r3PRSqJZ1-Mp"
   },
   "source": [
    "inspeccionamos el tipo de archivo"
   ]
  },
  {
   "cell_type": "code",
   "execution_count": null,
   "metadata": {
    "ExecuteTime": {
     "end_time": "2025-10-21T23:47:16.955364Z",
     "start_time": "2025-10-21T23:47:16.881248Z"
    },
    "colab": {
     "base_uri": "https://localhost:8080/"
    },
    "executionInfo": {
     "elapsed": 118,
     "status": "ok",
     "timestamp": 1761070002288,
     "user": {
      "displayName": "FRANCISCO MAUREIRA",
      "userId": "13842403936807031141"
     },
     "user_tz": 180
    },
    "id": "37b9e00c",
    "outputId": "ed40f2e3-fe0e-40e5-9768-cd4ed39105d6"
   },
   "outputs": [],
   "source": [
    "inspector = magic.Magic(mime=False) \n",
    "tipo_archivo = inspector.from_file(ruta_xls)\n",
    "print(tipo_archivo)"
   ]
  },
  {
   "cell_type": "markdown",
   "metadata": {
    "id": "HUnTrGIq2EZE"
   },
   "source": [
    "intentamos cargar como html"
   ]
  },
  {
   "cell_type": "code",
   "execution_count": null,
   "metadata": {
    "ExecuteTime": {
     "end_time": "2025-10-21T23:47:21.927343Z",
     "start_time": "2025-10-21T23:47:17.158447Z"
    },
    "id": "DSjxYs8jzN9h"
   },
   "outputs": [],
   "source": [
    "df_postulantes = pd.read_html(ruta_xls)"
   ]
  },
  {
   "cell_type": "markdown",
   "metadata": {
    "id": "dyPx7m0S3Hsb"
   },
   "source": [
    "intentamos mostrar las primeras filas"
   ]
  },
  {
   "cell_type": "code",
   "execution_count": null,
   "metadata": {
    "colab": {
     "base_uri": "https://localhost:8080/"
    },
    "executionInfo": {
     "elapsed": 25,
     "status": "ok",
     "timestamp": 1761070025530,
     "user": {
      "displayName": "FRANCISCO MAUREIRA",
      "userId": "13842403936807031141"
     },
     "user_tz": 180
    },
    "id": "kP-3dhM23Apu",
    "outputId": "baf1e078-54d3-4ba1-c6dd-855e3841de10"
   },
   "outputs": [],
   "source": [
    "try:\n",
    "    df_postulantes.head()\n",
    "except Exception as e:\n",
    "    print(f\"{type(e).__name__}: {e}\")"
   ]
  },
  {
   "cell_type": "markdown",
   "metadata": {
    "id": "WnyTENcx3Mzo"
   },
   "source": [
    "investigando nos damos cuenta de que `read_html()` retorna una lista de dataframes. <br>\n",
    "imprimimos cuantos hay"
   ]
  },
  {
   "cell_type": "code",
   "execution_count": null,
   "metadata": {
    "colab": {
     "base_uri": "https://localhost:8080/"
    },
    "executionInfo": {
     "elapsed": 12,
     "status": "ok",
     "timestamp": 1761070025531,
     "user": {
      "displayName": "FRANCISCO MAUREIRA",
      "userId": "13842403936807031141"
     },
     "user_tz": 180
    },
    "id": "iNA2UphR3pY9",
    "outputId": "0bfafd9f-12e3-4ccb-b19c-8269072ad231"
   },
   "outputs": [],
   "source": [
    "lista_html = df_postulantes\n",
    "len(lista_html)"
   ]
  },
  {
   "cell_type": "markdown",
   "metadata": {
    "id": "-OnFYGUX3vwB"
   },
   "source": [
    "mostramos el que contiene"
   ]
  },
  {
   "cell_type": "code",
   "execution_count": null,
   "metadata": {
    "colab": {
     "base_uri": "https://localhost:8080/",
     "height": 901
    },
    "executionInfo": {
     "elapsed": 48,
     "status": "ok",
     "timestamp": 1761070025576,
     "user": {
      "displayName": "FRANCISCO MAUREIRA",
      "userId": "13842403936807031141"
     },
     "user_tz": 180
    },
    "id": "6tMlvi022dIK",
    "outputId": "80839151-b3ce-4b77-ff4d-dd5c346d1406"
   },
   "outputs": [],
   "source": [
    "df_postulantes = lista_html[0]\n",
    "display(df_postulantes.head())\n",
    "display(df_postulantes.tail())"
   ]
  },
  {
   "cell_type": "markdown",
   "metadata": {
    "id": "1KpFK3izVYPy"
   },
   "source": [
    "Captura de pantalla de las ultimas filas del dataset en Excel:"
   ]
  },
  {
   "cell_type": "code",
   "execution_count": null,
   "metadata": {
    "colab": {
     "base_uri": "https://localhost:8080/",
     "height": 246
    },
    "executionInfo": {
     "elapsed": 50,
     "status": "ok",
     "timestamp": 1761070025627,
     "user": {
      "displayName": "FRANCISCO MAUREIRA",
      "userId": "13842403936807031141"
     },
     "user_tz": 180
    },
    "id": "Y9n2g4vRHFmt",
    "outputId": "07895464-0863-450c-ac9d-93d990b925f7"
   },
   "outputs": [],
   "source": [
    "Image(ruta_ultimas_filas_png)"
   ]
  },
  {
   "cell_type": "markdown",
   "metadata": {
    "id": "RsB4eSNxJBtq"
   },
   "source": [
    " Comparando la cola con lo que muestra Excel, a nuestro dataframe le faltan las ultimas 6 filas. <br>\n",
    " A pesar de que las filas extraviadas no son relevantes para nuestro analisis, el formato del archivo no nos da confianza. Puede que hayan mas celdas que se perdieron durante la carga. Para maximizar la compatibilidad optamos por exportar el archivo a un `.csv` con Excel y lo cargamos con `read_csv()`"
   ]
  },
  {
   "cell_type": "code",
   "execution_count": null,
   "metadata": {
    "id": "CKPOaJJmJqjt"
   },
   "outputs": [],
   "source": [
    "df_postulantes = pd.read_csv(ruta_csv, low_memory=False)\n",
    "# low_memory=False para que pandas infiera los tipos de datos despues de leer todo el archivo\n",
    "# y asi no terminar con columnas con multiples tipos de datos"
   ]
  },
  {
   "cell_type": "markdown",
   "metadata": {
    "id": "WUk2tK0A7EYl"
   },
   "source": [
    "el `DtypeWarning` nos avisa que en la columna 0 hay varios tipos de datos, por tanto `pandas` dejó todas esas entradas como tipo `object`"
   ]
  },
  {
   "cell_type": "code",
   "execution_count": null,
   "metadata": {
    "colab": {
     "base_uri": "https://localhost:8080/",
     "height": 737
    },
    "executionInfo": {
     "elapsed": 50,
     "status": "ok",
     "timestamp": 1761070025957,
     "user": {
      "displayName": "FRANCISCO MAUREIRA",
      "userId": "13842403936807031141"
     },
     "user_tz": 180
    },
    "id": "f2HOdmuaNjpG",
    "jupyter": {
     "source_hidden": true
    },
    "outputId": "af6d5a44-6203-4803-f177-d609ace4867b",
    "scrolled": true
   },
   "outputs": [],
   "source": [
    "with pd.option_context('display.max_colwidth', None):\n",
    "    display(df_postulantes.tail(8))"
   ]
  },
  {
   "cell_type": "markdown",
   "metadata": {
    "id": "wSHg4nMeRQS-"
   },
   "source": [
    "Ahora sí se muestran las observaciones del final. Además, contando las filas desde 0 (en vez de 1) y no considerando el encabezado, las dimensiones del dataframe son iguales a las de la tabla mostrada en Excel."
   ]
  },
  {
   "cell_type": "markdown",
   "metadata": {
    "id": "A4VXJ937MJR0"
   },
   "source": [
    "### 2.1.2 Primer vistazo"
   ]
  },
  {
   "cell_type": "markdown",
   "metadata": {
    "id": "kE4kEJDVo-ew"
   },
   "source": [
    "Resumen de las columnas"
   ]
  },
  {
   "cell_type": "code",
   "execution_count": null,
   "metadata": {
    "colab": {
     "base_uri": "https://localhost:8080/"
    },
    "executionInfo": {
     "elapsed": 140,
     "status": "ok",
     "timestamp": 1761070026100,
     "user": {
      "displayName": "FRANCISCO MAUREIRA",
      "userId": "13842403936807031141"
     },
     "user_tz": 180
    },
    "id": "SY4PdwE2GKzo",
    "outputId": "2f3cfa74-22d5-4bc3-86a7-04e270b0ba05",
    "scrolled": true
   },
   "outputs": [],
   "source": [
    "df_postulantes.info()"
   ]
  },
  {
   "cell_type": "markdown",
   "metadata": {
    "id": "6j2h02TGpBfu"
   },
   "source": [
    "Cantidad de datos nulos en el Dataframe por columna"
   ]
  },
  {
   "cell_type": "code",
   "execution_count": null,
   "metadata": {
    "colab": {
     "base_uri": "https://localhost:8080/",
     "height": 554
    },
    "executionInfo": {
     "elapsed": 7,
     "status": "ok",
     "timestamp": 1761070026109,
     "user": {
      "displayName": "FRANCISCO MAUREIRA",
      "userId": "13842403936807031141"
     },
     "user_tz": 180
    },
    "id": "5-H692iTGflG",
    "outputId": "81dccb30-c6a1-4789-a5eb-c3261cb478fe"
   },
   "outputs": [],
   "source": [
    "df_postulantes.isnull().sum()"
   ]
  },
  {
   "cell_type": "markdown",
   "metadata": {
    "id": "MnT9pV5xpHnW"
   },
   "source": [
    "mostrar estadisticas por columna"
   ]
  },
  {
   "cell_type": "code",
   "execution_count": null,
   "metadata": {
    "colab": {
     "base_uri": "https://localhost:8080/",
     "height": 466
    },
    "executionInfo": {
     "elapsed": 197,
     "status": "ok",
     "timestamp": 1761070026303,
     "user": {
      "displayName": "FRANCISCO MAUREIRA",
      "userId": "13842403936807031141"
     },
     "user_tz": 180
    },
    "id": "5utgQlXPGNVS",
    "outputId": "90f33ef4-3f8b-415a-81c3-9ef883a29636"
   },
   "outputs": [],
   "source": [
    "df_postulantes.describe(include='all')"
   ]
  },
  {
   "cell_type": "markdown",
   "metadata": {
    "id": "J9Welep9Hp9a"
   },
   "source": [
    "## 2.2 Datos Titulados 2024 (Entrega 2)"
   ]
  },
  {
   "cell_type": "code",
   "execution_count": null,
   "metadata": {
    "id": "2FbyzmFmIhfW"
   },
   "outputs": [],
   "source": [
    "#df_titulados = pd.read_csv(\"/content/titulados.csv\", sep=';')"
   ]
  },
  {
   "cell_type": "code",
   "execution_count": null,
   "metadata": {
    "id": "1Vh3tiBoJgD1"
   },
   "outputs": [],
   "source": [
    "#df_titulados.head()"
   ]
  },
  {
   "cell_type": "markdown",
   "metadata": {
    "id": "hi4ZoVCZFDOO"
   },
   "source": [
    "# 3 Limpieza de Datos\n",
    "**Objetivo:** Eliminar duplicados, manejar valores nulos, convertir tipos de datos, y estandarizar categorías."
   ]
  },
  {
   "cell_type": "markdown",
   "metadata": {
    "id": "rxnkYAEGxN93"
   },
   "source": [
    "## 3.1 Eliminar filas con observaciones"
   ]
  },
  {
   "cell_type": "code",
   "execution_count": null,
   "metadata": {
    "colab": {
     "base_uri": "https://localhost:8080/"
    },
    "executionInfo": {
     "elapsed": 29,
     "status": "ok",
     "timestamp": 1761070026370,
     "user": {
      "displayName": "FRANCISCO MAUREIRA",
      "userId": "13842403936807031141"
     },
     "user_tz": 180
    },
    "id": "pTrAS6Izxxuh",
    "outputId": "a11a7a0f-aeb8-4b3c-8464-fdd6948eddd1"
   },
   "outputs": [],
   "source": [
    "filas_antes = df_postulantes.shape[0]\n",
    "df_postulantes = df_postulantes.iloc[:-5]\n",
    "filas_despues = df_postulantes.shape[0]\n",
    "eliminadas = filas_antes - filas_despues\n",
    "print(f\"Se eliminaron las {eliminadas} ultimas filas.\")"
   ]
  },
  {
   "cell_type": "markdown",
   "metadata": {
    "id": "j_fsx1Fk4Aka"
   },
   "source": [
    "## 3.2 Eliminar filas vacias"
   ]
  },
  {
   "cell_type": "code",
   "execution_count": null,
   "metadata": {
    "colab": {
     "base_uri": "https://localhost:8080/"
    },
    "executionInfo": {
     "elapsed": 29,
     "status": "ok",
     "timestamp": 1761070026394,
     "user": {
      "displayName": "FRANCISCO MAUREIRA",
      "userId": "13842403936807031141"
     },
     "user_tz": 180
    },
    "id": "IddwmNYU30ZX",
    "outputId": "affb0dd0-70f9-4585-d197-1db57292a79f"
   },
   "outputs": [],
   "source": [
    "filas_antes = df_postulantes.shape[0]\n",
    "filas_vacias = df_postulantes.isnull().all(axis=1)\n",
    "df_postulantes = df_postulantes[~filas_vacias]\n",
    "filas_despues = df_postulantes.shape[0]\n",
    "eliminadas = filas_antes - filas_despues\n",
    "print(f\"Se eliminaron {eliminadas} filas vacias.\")"
   ]
  },
  {
   "cell_type": "markdown",
   "metadata": {
    "id": "TMv8SUM3mVaM"
   },
   "source": [
    "## 3.3 Eliminar duplicados"
   ]
  },
  {
   "cell_type": "code",
   "execution_count": null,
   "metadata": {
    "colab": {
     "base_uri": "https://localhost:8080/"
    },
    "executionInfo": {
     "elapsed": 117,
     "status": "ok",
     "timestamp": 1761070026513,
     "user": {
      "displayName": "FRANCISCO MAUREIRA",
      "userId": "13842403936807031141"
     },
     "user_tz": 180
    },
    "id": "06BaFyhAvWbT",
    "outputId": "94197c14-376b-4627-a983-8f4fa58a27e8"
   },
   "outputs": [],
   "source": [
    "filas_antes = df_postulantes.shape[0]\n",
    "df_postulantes.drop_duplicates(inplace=True)\n",
    "filas_despues = df_postulantes.shape[0]\n",
    "eliminadas = filas_antes - filas_despues\n",
    "print(f\"Se eliminaron {eliminadas} filas duplicadas.\")"
   ]
  },
  {
   "cell_type": "markdown",
   "metadata": {
    "id": "uOZWKl5ChLbd"
   },
   "source": [
    "## 3.4 Columnas `Año Pech` y `Generación`"
   ]
  },
  {
   "cell_type": "markdown",
   "metadata": {
    "id": "h-ZyFOlX5xEb"
   },
   "source": [
    "### 3.4.1 Convertir a Int64"
   ]
  },
  {
   "cell_type": "code",
   "execution_count": null,
   "metadata": {
    "id": "ocIEHvBF6we9"
   },
   "outputs": [],
   "source": [
    "df_postulantes = df_postulantes.astype({'Año Pech': 'Int64', 'Generación': 'Int64'})"
   ]
  },
  {
   "cell_type": "markdown",
   "metadata": {
    "id": "XAEr3MGQ5mPw"
   },
   "source": [
    "### 3.4.2 Datos conflictivos"
   ]
  },
  {
   "cell_type": "code",
   "execution_count": null,
   "metadata": {
    "colab": {
     "base_uri": "https://localhost:8080/"
    },
    "executionInfo": {
     "elapsed": 16,
     "status": "ok",
     "timestamp": 1761070026593,
     "user": {
      "displayName": "FRANCISCO MAUREIRA",
      "userId": "13842403936807031141"
     },
     "user_tz": 180
    },
    "id": "4qKbiPxzOhBt",
    "outputId": "ec736bbc-6090-4da2-f3e8-f6310f7e8546"
   },
   "outputs": [],
   "source": [
    "con_annos_distintos = (df_postulantes['Año Pech'].notna()\n",
    "                     & df_postulantes['Generación'].notna()\n",
    "                     & (df_postulantes['Año Pech'] != df_postulantes['Generación']))\n",
    "\n",
    "df_postulantes[con_annos_distintos]"
   ]
  },
  {
   "cell_type": "markdown",
   "metadata": {
    "id": "StrlLRbeO6Q-"
   },
   "source": [
    "seba: no hay conflictos entre annos"
   ]
  },
  {
   "cell_type": "markdown",
   "metadata": {
    "id": "CY7Ao6cmYTmg"
   },
   "source": [
    "### 3.4.3 unir columnas"
   ]
  },
  {
   "cell_type": "code",
   "execution_count": null,
   "metadata": {
    "colab": {
     "base_uri": "https://localhost:8080/"
    },
    "executionInfo": {
     "elapsed": 347,
     "status": "ok",
     "timestamp": 1761070026946,
     "user": {
      "displayName": "FRANCISCO MAUREIRA",
      "userId": "13842403936807031141"
     },
     "user_tz": 180
    },
    "id": "6XKMX76vZBx7",
    "outputId": "9b20457d-bc2a-4dc2-ab47-cefd938aad74"
   },
   "outputs": [],
   "source": [
    "df_postulantes['Año Pech'] = df_postulantes['Año Pech'].combine_first(df_postulantes['Generación'])\n",
    "\n",
    "df_postulantes = df_postulantes.rename(columns={'Año Pech': 'Año'})\n",
    "\n",
    "df_postulantes = df_postulantes.drop(columns='Generación')\n",
    "\n",
    "df_postulantes.head(1)"
   ]
  },
  {
   "cell_type": "markdown",
   "metadata": {
    "id": "RhiedmXGPrDT"
   },
   "source": [
    "### 3.4.4 revisar datos extraños"
   ]
  },
  {
   "cell_type": "code",
   "execution_count": null,
   "metadata": {
    "colab": {
     "base_uri": "https://localhost:8080/"
    },
    "executionInfo": {
     "elapsed": 16,
     "status": "ok",
     "timestamp": 1761070026949,
     "user": {
      "displayName": "FRANCISCO MAUREIRA",
      "userId": "13842403936807031141"
     },
     "user_tz": 180
    },
    "id": "hoFPL0Ld9OB0",
    "outputId": "ce9fb694-8624-4d01-c416-25172c15e4f5"
   },
   "outputs": [],
   "source": [
    "print(np.sort(df_postulantes['Año'].unique().dropna()))"
   ]
  },
  {
   "cell_type": "markdown",
   "metadata": {
    "id": "Phq7cyq5upR_"
   },
   "source": [
    "#### revisar filas con anno 2030"
   ]
  },
  {
   "cell_type": "code",
   "execution_count": null,
   "metadata": {
    "colab": {
     "base_uri": "https://localhost:8080/"
    },
    "executionInfo": {
     "elapsed": 13,
     "status": "ok",
     "timestamp": 1761070026957,
     "user": {
      "displayName": "FRANCISCO MAUREIRA",
      "userId": "13842403936807031141"
     },
     "user_tz": 180
    },
    "id": "N27ooj0bEvCj",
    "outputId": "7bec48b2-5d81-427b-c36e-6eeff80ab758"
   },
   "outputs": [],
   "source": [
    "con_anno_2030 = (df_postulantes['Año'] == 2030).fillna(False)\n",
    "df_postulantes[con_anno_2030]"
   ]
  },
  {
   "cell_type": "markdown",
   "metadata": {
    "id": "rOVrdxkIFP1r"
   },
   "source": [
    "por los nombres se infiere que fueron filas de testeo que a los encargados de la base de datos se les olvidó quitar <br>\n",
    "por tanto las eliminamos"
   ]
  },
  {
   "cell_type": "code",
   "execution_count": null,
   "metadata": {
    "colab": {
     "base_uri": "https://localhost:8080/"
    },
    "executionInfo": {
     "elapsed": 28,
     "status": "ok",
     "timestamp": 1761070026991,
     "user": {
      "displayName": "FRANCISCO MAUREIRA",
      "userId": "13842403936807031141"
     },
     "user_tz": 180
    },
    "id": "xLTnwtxfGOcN",
    "outputId": "b7e74d86-8384-42f0-f660-6d3ca1733c51"
   },
   "outputs": [],
   "source": [
    "filas_antes = df_postulantes.shape[0]\n",
    "df_postulantes = df_postulantes[~con_anno_2030]\n",
    "filas_despues = df_postulantes.shape[0]\n",
    "eliminadas = filas_antes - filas_despues\n",
    "print(f\"Se eliminaron {eliminadas} filas\")"
   ]
  },
  {
   "cell_type": "markdown",
   "metadata": {
    "id": "FYBnRIkeglo0"
   },
   "source": [
    "## 3.5 Columnas `# Proceso` y `Proceso`"
   ]
  },
  {
   "cell_type": "markdown",
   "metadata": {
    "id": "cCWjkjzyOqhj"
   },
   "source": [
    "### 3.5.1 Convertir a `Int64`"
   ]
  },
  {
   "cell_type": "code",
   "execution_count": null,
   "metadata": {
    "id": "ZnLK0ADCOpk0"
   },
   "outputs": [],
   "source": [
    "df_postulantes = df_postulantes.astype({'# Proceso': 'Int64', 'Proceso': 'Int64'})"
   ]
  },
  {
   "cell_type": "markdown",
   "metadata": {
    "id": "tMYSfsY2pUvB"
   },
   "source": [
    "### 3.5.2 datos conflictivos"
   ]
  },
  {
   "cell_type": "code",
   "execution_count": null,
   "metadata": {
    "colab": {
     "base_uri": "https://localhost:8080/"
    },
    "executionInfo": {
     "elapsed": 57,
     "status": "ok",
     "timestamp": 1761070027081,
     "user": {
      "displayName": "FRANCISCO MAUREIRA",
      "userId": "13842403936807031141"
     },
     "user_tz": 180
    },
    "id": "N0lbW55yprys",
    "outputId": "eddca453-4587-48a0-d7a9-aca310d7150a"
   },
   "outputs": [],
   "source": [
    "con_procesos_distintos = (df_postulantes['# Proceso'].notna()\n",
    "                          & df_postulantes['Proceso'].notna()\n",
    "                          & (df_postulantes['# Proceso'] != df_postulantes['Proceso']))\n",
    "\n",
    "df_postulantes[con_procesos_distintos]"
   ]
  },
  {
   "cell_type": "markdown",
   "metadata": {
    "id": "TXElmHrmbZzD"
   },
   "source": [
    "### 3.5.3 revisar datos extrannos"
   ]
  },
  {
   "cell_type": "code",
   "execution_count": null,
   "metadata": {
    "colab": {
     "base_uri": "https://localhost:8080/",
     "height": 144
    },
    "executionInfo": {
     "elapsed": 56,
     "status": "ok",
     "timestamp": 1761070027139,
     "user": {
      "displayName": "FRANCISCO MAUREIRA",
      "userId": "13842403936807031141"
     },
     "user_tz": 180
    },
    "id": "m_FTL0wsbUP4",
    "outputId": "bb4e54ef-1f0b-4614-ed0f-5e2abebfa14a"
   },
   "outputs": [],
   "source": [
    "for col in ('# Proceso', 'Proceso'):\n",
    "    display(df_postulantes[col].value_counts().sort_index().to_frame().T)"
   ]
  },
  {
   "cell_type": "markdown",
   "metadata": {
    "id": "TzedaRKywlib"
   },
   "source": [
    "## 3.6 Columna `Edad`"
   ]
  },
  {
   "cell_type": "markdown",
   "metadata": {
    "id": "jHzLrwsrxLHB"
   },
   "source": [
    "### 3.6.1 Convertir a `Int64`"
   ]
  },
  {
   "cell_type": "code",
   "execution_count": null,
   "metadata": {
    "id": "flRPfgFZxOWp"
   },
   "outputs": [],
   "source": [
    "df_postulantes = df_postulantes.astype({'Edad': 'Int64'})"
   ]
  },
  {
   "cell_type": "markdown",
   "metadata": {
    "id": "3dw2sBF9xYUp"
   },
   "source": [
    "### 3.6.2 mostrar valores unicos"
   ]
  },
  {
   "cell_type": "code",
   "execution_count": null,
   "metadata": {
    "colab": {
     "base_uri": "https://localhost:8080/"
    },
    "executionInfo": {
     "elapsed": 49,
     "status": "ok",
     "timestamp": 1761070027213,
     "user": {
      "displayName": "FRANCISCO MAUREIRA",
      "userId": "13842403936807031141"
     },
     "user_tz": 180
    },
    "id": "06nHbB2Hv3B2",
    "outputId": "2b325992-dabd-4165-edb1-6a1b165badfa"
   },
   "outputs": [],
   "source": [
    "print(np.sort(df_postulantes['Edad'].unique()))"
   ]
  },
  {
   "cell_type": "markdown",
   "metadata": {
    "id": "th2OVhe4vrCa"
   },
   "source": [
    "### 3.6.3 Dejar solo edades razonables"
   ]
  },
  {
   "cell_type": "code",
   "execution_count": null,
   "metadata": {
    "id": "7T8jTLeggve6"
   },
   "outputs": [],
   "source": [
    "df_postulantes = (df_postulantes[(df_postulantes['Edad'] >= 18)\n",
    "                  & (df_postulantes['Edad'] <= 70)])"
   ]
  },
  {
   "cell_type": "markdown",
   "metadata": {
    "id": "YTEs-VYKwStQ"
   },
   "source": [
    "## 3.7 Columna `Nombre`"
   ]
  },
  {
   "cell_type": "markdown",
   "metadata": {
    "id": "AiPLAIbQQfRe"
   },
   "source": [
    "### 3.7.1 Revisar si hay personas sin nombre"
   ]
  },
  {
   "cell_type": "code",
   "execution_count": null,
   "metadata": {
    "colab": {
     "base_uri": "https://localhost:8080/",
     "height": 403
    },
    "executionInfo": {
     "elapsed": 56,
     "status": "ok",
     "timestamp": 1761070027267,
     "user": {
      "displayName": "FRANCISCO MAUREIRA",
      "userId": "13842403936807031141"
     },
     "user_tz": 180
    },
    "id": "MJeXYfGGytSO",
    "outputId": "b386d117-50f8-4094-94a8-ff7d93ad0413"
   },
   "outputs": [],
   "source": [
    "sin_nombre = df_postulantes[\"Nombre\"].isnull()\n",
    "df_postulantes[sin_nombre]"
   ]
  },
  {
   "cell_type": "markdown",
   "metadata": {
    "id": "u8mDn2on1cfL"
   },
   "source": [
    "no parecen redundantes"
   ]
  },
  {
   "cell_type": "markdown",
   "metadata": {
    "id": "rnf0fCXWSBqv"
   },
   "source": [
    "## 3.8 Columna `Universidad` y `Universidad (old)`"
   ]
  },
  {
   "cell_type": "markdown",
   "metadata": {
    "id": "1Xg6AYj9rH_Z"
   },
   "source": [
    "### 3.8.1 Datos conflictivos"
   ]
  },
  {
   "cell_type": "code",
   "execution_count": null,
   "metadata": {
    "colab": {
     "base_uri": "https://localhost:8080/",
     "height": 1000
    },
    "executionInfo": {
     "elapsed": 45,
     "status": "ok",
     "timestamp": 1761070027310,
     "user": {
      "displayName": "FRANCISCO MAUREIRA",
      "userId": "13842403936807031141"
     },
     "user_tz": 180
    },
    "id": "sMKE7NcyrdoN",
    "outputId": "28e5e93f-5b93-4286-a603-926ca003a5a9"
   },
   "outputs": [],
   "source": [
    "con_ues_distintas = (df_postulantes['Universidad'].notna()\n",
    "                     & df_postulantes['Universidad (old)'].notna()\n",
    "                     & (df_postulantes['Universidad'] != df_postulantes['Universidad (old)']))\n",
    "\n",
    "display(df_postulantes[con_ues_distintas].sort_values(\"Universidad\"))"
   ]
  },
  {
   "cell_type": "markdown",
   "metadata": {
    "id": "8qbw7eAg5W3M"
   },
   "source": [
    "### 3.8.2 Unir columnas"
   ]
  },
  {
   "cell_type": "code",
   "execution_count": null,
   "metadata": {
    "colab": {
     "base_uri": "https://localhost:8080/"
    },
    "executionInfo": {
     "elapsed": 246,
     "status": "ok",
     "timestamp": 1761070027553,
     "user": {
      "displayName": "FRANCISCO MAUREIRA",
      "userId": "13842403936807031141"
     },
     "user_tz": 180
    },
    "id": "9nfCiWIw5aZs",
    "outputId": "8b2f61f7-36d9-43dd-87b8-924206e900dc"
   },
   "outputs": [],
   "source": [
    "df_postulantes['Universidad'] = df_postulantes['Universidad (old)'].combine_first(df_postulantes['Universidad'])\n",
    "\n",
    "df_postulantes = df_postulantes.drop(columns='Universidad (old)')\n",
    "\n",
    "df_postulantes.head(1)"
   ]
  },
  {
   "cell_type": "markdown",
   "metadata": {
    "id": "csUQ1jHlKCZu"
   },
   "source": [
    "### 3.8.3 estandarizar nombres universidades"
   ]
  },
  {
   "cell_type": "markdown",
   "metadata": {},
   "source": [
    "Para poder explorar mejor todas las entradas para universidad que hay en la database, exportamos a json"
   ]
  },
  {
   "cell_type": "code",
   "execution_count": null,
   "metadata": {
    "id": "MIRsnQuYvTiI"
   },
   "outputs": [],
   "source": [
    "universidades = df_postulantes['Universidad'].sort_values().unique().tolist()\n",
    "\n",
    "with open(Path('por mapear/universidades.json'), 'w', encoding='utf-8') as file:\n",
    "    json.dump(universidades, file, ensure_ascii=False, indent=2)"
   ]
  },
  {
   "cell_type": "code",
   "execution_count": null,
   "metadata": {
    "id": "LcEDXAJpOslT"
   },
   "outputs": [],
   "source": [
    "universidades_estandarizadas = {\n",
    "    \"U. Arcis\": \"U. de Arte y Ciencias Sociales - ARCIS\",\n",
    "    \"U. de Arte y Ciencias Sociales - ARCIS\": \"U. de Arte y Ciencias Sociales - ARCIS\",\n",
    "    \"U. Tecnológica de Chile (INACAP)\": \"U. Tecnológica de Chile - INACAP\",\n",
    "    \"U. Tecnológica de Chile - INACAP\": \"U. Tecnológica de Chile - INACAP\",\n",
    "    \"U. de Ciencias de la Informática\": \"U. de Ciencias de la Informática - UCINF\",\n",
    "    \"U. de Ciencias de la Informática - UCINF\": \"U. de Ciencias de la Informática - UCINF\",\n",
    "    \"U. Metropolitana de Ciencias de la Educación\": \"U. Metropolitana de Ciencias de la Educación - UMCE\",\n",
    "    \"U. Metropolitana de Ciencias de la Educación - UMCE\": \"U. Metropolitana de Ciencias de la Educación - UMCE\",\n",
    "    \"U. UNIACC\": \"U. de Artes, Ciencias y Comunicación - UNIACC\",\n",
    "    \"U. de Artes, Ciencias y Comunicación - UNIACC\": \"U. de Artes, Ciencias y Comunicación - UNIACC\",\n",
    "    \"UNIACC\": \"U. de Artes, Ciencias y Comunicación - UNIACC\",\n",
    "    \"U. Tecnológica Metropolitana\": \"U. Tecnológica Metropolitana - UTEM\",\n",
    "    \"U. Tecnológica Metropolitana - UTEM\": \"U. Tecnológica Metropolitana - UTEM\",\n",
    "    \"U. Tecnológica Metropolitana UTEM\": \"U. Tecnológica Metropolitana - UTEM\",\n",
    "    \"Duoc UC\": \"Duoc UC\",\n",
    "    \"DuocUC\": \"Duoc UC\",\n",
    "    \"Escuela Moderna de Música\": \"Escuela Moderna de Música y Danza\",\n",
    "    \"Escuela Moderna de Música y Danza\": \"Escuela Moderna de Música y Danza\",\n",
    "    \"U. Austral\": \"U. Austral de Chile\",\n",
    "    \"U. Austral de Chile\": \"U. Austral de Chile\",\n",
    "    \"U. Central\": \"U. Central de Chile\",\n",
    "    \"U. Central de Chile\": \"U. Central de Chile\",\n",
    "    \"U. de Playa Ancha\": \"U. de Playa Ancha de Ciencias de la Educación\",\n",
    "    \"U. de Playa Ancha de Ciencias de la Educación\": \"U. de Playa Ancha de Ciencias de la Educación\",\n",
    "    \"U. de Santiago\": \"U. de Santiago de Chile\",\n",
    "    \"U. de Santiago de Chile\": \"U. de Santiago de Chile\",\n",
    "    \"U. Católica de La Santísima Concepción\": \"U. Católica de la Santísima Concepción\",\n",
    "    \"U. Católica de la Santísima Concepción\": \"U. Católica de la Santísima Concepción\",\n",
    "    \"U. de La Serena\": \"U. de La Serena\",\n",
    "    \"U. de la Serena\": \"U. de La Serena\",\n",
    "    \"U. de Las Américas\": \"U. de Las Américas\",\n",
    "    \"U. de las Américas\": \"U. de Las Américas\",\n",
    "    \"U. de Los Andes\": \"U. de Los Andes\",\n",
    "    \"U. de los Andes\": \"U. de Los Andes\",\n",
    "    \"U. de Los Lagos\": \"U. de Los Lagos\",\n",
    "    \"U. de los Lagos\": \"U. de Los Lagos\",\n",
    "    \"U. del Bío Bío\": \"U. del Bío-Bío\",\n",
    "    \"U. del Bío-Bío\": \"U. del Bío-Bío\",\n",
    "    \"U. de O' Higgins\": \"U. de O'Higgins\",\n",
    "    \"U. de O'Higgins\": \"U. de O'Higgins\",\n",
    "    \"U. Iberoamericana de Ciencias y Tecnología - UNICIT\": \"U. Iberoamericana de Ciencias y Tecnología - UNICIT\",\n",
    "    \"U. Iberoamericana de Ciencias y Tecnología UNICIT\": \"U. Iberoamericana de Ciencias y Tecnología - UNICIT\",\n",
    "    \"Otra\": pd.NA,\n",
    "    \"Sin información\": pd.NA\n",
    "}"
   ]
  },
  {
   "cell_type": "code",
   "execution_count": null,
   "metadata": {
    "id": "iE3uVQ2L_Qj8"
   },
   "outputs": [],
   "source": [
    "df_postulantes['Universidad'] = df_postulantes['Universidad'].replace(universidades_estandarizadas)"
   ]
  },
  {
   "cell_type": "markdown",
   "metadata": {
    "id": "6YqJWquDEs3X"
   },
   "source": [
    "## 3.9 Columnas carreras\n"
   ]
  },
  {
   "cell_type": "markdown",
   "metadata": {
    "id": "_3qPol909yLF"
   },
   "source": [
    "### 3.9.1 datos conflictivos"
   ]
  },
  {
   "cell_type": "markdown",
   "metadata": {},
   "source": [
    "mostrar filas que tengan al menos 2 valores no-nulos en las columnas de carreras"
   ]
  },
  {
   "cell_type": "code",
   "execution_count": null,
   "metadata": {
    "colab": {
     "base_uri": "https://localhost:8080/"
    },
    "executionInfo": {
     "elapsed": 1361,
     "status": "ok",
     "timestamp": 1761070029120,
     "user": {
      "displayName": "FRANCISCO MAUREIRA",
      "userId": "13842403936807031141"
     },
     "user_tz": 180
    },
    "id": "8TvKdtg39xQv",
    "outputId": "8804be22-9c9d-4573-ec28-7be55c886c33"
   },
   "outputs": [],
   "source": [
    "with pd.option_context('display.max_colwidth', None):\n",
    "    display(df_postulantes.dropna(thresh=2, subset=['Carrera',\n",
    "                                              'Carrera.1',\n",
    "                                              'Otra Carrera',\n",
    "                                              'Otra carrera, ¿Cuál?']))"
   ]
  },
  {
   "cell_type": "markdown",
   "metadata": {
    "id": "REBfhICw1jQx"
   },
   "source": [
    "### 3.9.2 unir columnas `Carrera` y `Carrera.1`"
   ]
  },
  {
   "cell_type": "markdown",
   "metadata": {},
   "source": [
    "se unen las columnas asumiendo que `Carrera.1`"
   ]
  },
  {
   "cell_type": "code",
   "execution_count": null,
   "metadata": {
    "colab": {
     "base_uri": "https://localhost:8080/"
    },
    "executionInfo": {
     "elapsed": 112,
     "status": "ok",
     "timestamp": 1761070029269,
     "user": {
      "displayName": "FRANCISCO MAUREIRA",
      "userId": "13842403936807031141"
     },
     "user_tz": 180
    },
    "id": "Y5Pj7zAP4t8c",
    "outputId": "da570c5f-d011-4d3b-e625-fe4bba25791e"
   },
   "outputs": [],
   "source": [
    "df_postulantes['Carrera'] = df_postulantes['Carrera'].combine_first(df_postulantes['Carrera.1'])\n",
    "df_postulantes = df_postulantes.drop(columns=['Carrera.1'])\n",
    "\n",
    "df_postulantes.dropna(thresh=2, subset=['Carrera', 'Otra Carrera', 'Otra carrera, ¿Cuál?']).head(1)"
   ]
  },
  {
   "cell_type": "markdown",
   "metadata": {
    "id": "qIFzvjDU7bSX"
   },
   "source": [
    "### 3.9.3 reemplazar carreras no especificadas por las de las columnas \"otra carrera\""
   ]
  },
  {
   "cell_type": "code",
   "execution_count": null,
   "metadata": {
    "id": "6f799ZA6qplF"
   },
   "outputs": [],
   "source": [
    "df_copia = df_postulantes.copy()"
   ]
  },
  {
   "cell_type": "code",
   "execution_count": null,
   "metadata": {
    "id": "7vw62VAqq0Pq"
   },
   "outputs": [],
   "source": [
    "df_postulantes = df_copia.copy()"
   ]
  },
  {
   "cell_type": "code",
   "execution_count": null,
   "metadata": {
    "colab": {
     "base_uri": "https://localhost:8080/"
    },
    "executionInfo": {
     "elapsed": 10,
     "status": "ok",
     "timestamp": 1761070029337,
     "user": {
      "displayName": "FRANCISCO MAUREIRA",
      "userId": "13842403936807031141"
     },
     "user_tz": 180
    },
    "id": "S3KjVXnLUApV",
    "outputId": "b6461f3f-d3ad-4bab-b8be-90684bc9d465"
   },
   "outputs": [],
   "source": [
    "set_otras = {'otro', 'otra', 'Otro', 'Otra'}\n",
    "patron_otras = '|'.join(set_otras)\n",
    "\n",
    "puso_otra = df_postulantes['Carrera'].str.contains(patron_otras, na=False)\n",
    "df_postulantes[puso_otra]"
   ]
  },
  {
   "cell_type": "markdown",
   "metadata": {
    "id": "rZkLWriQWaiZ"
   },
   "source": [
    "seba: para estos casos podemos reemplazar la columna \"carrera\" por \"otra\" y \"otra cual\""
   ]
  },
  {
   "cell_type": "code",
   "execution_count": null,
   "metadata": {
    "colab": {
     "base_uri": "https://localhost:8080/"
    },
    "executionInfo": {
     "elapsed": 13,
     "status": "ok",
     "timestamp": 1761070029356,
     "user": {
      "displayName": "FRANCISCO MAUREIRA",
      "userId": "13842403936807031141"
     },
     "user_tz": 180
    },
    "id": "CW1bVCgRYzlh",
    "outputId": "6b21ae18-d967-439b-acef-07a5286d1208"
   },
   "outputs": [],
   "source": [
    "otra_carrera = df_postulantes['Otra Carrera'].fillna(df_postulantes['Otra carrera, ¿Cuál?'])\n",
    "\n",
    "tiene_carrera = puso_otra & otra_carrera.notna()\n",
    "\n",
    "df_postulantes.loc[tiene_carrera, 'Carrera'] = otra_carrera[tiene_carrera]\n",
    "df_postulantes[puso_otra]"
   ]
  },
  {
   "cell_type": "markdown",
   "metadata": {
    "id": "2V18YvjRkL_L"
   },
   "source": [
    "### 3.9.4 eliminar columnas \"otra\" y \"otra cual\""
   ]
  },
  {
   "cell_type": "code",
   "execution_count": null,
   "metadata": {
    "id": "qwZmNnPQkmGi"
   },
   "outputs": [],
   "source": [
    "df_postulantes = df_postulantes.drop(columns=['Otra Carrera'])\n",
    "df_postulantes = df_postulantes.drop(columns=['Otra carrera, ¿Cuál?'])"
   ]
  },
  {
   "cell_type": "code",
   "execution_count": null,
   "metadata": {
    "colab": {
     "base_uri": "https://localhost:8080/"
    },
    "executionInfo": {
     "elapsed": 23,
     "status": "ok",
     "timestamp": 1761070029392,
     "user": {
      "displayName": "FRANCISCO MAUREIRA",
      "userId": "13842403936807031141"
     },
     "user_tz": 180
    },
    "id": "cA8fZLpllTdD",
    "outputId": "ee97b513-5bf7-4982-a7ff-8837143666b8"
   },
   "outputs": [],
   "source": [
    "df_postulantes.head()"
   ]
  },
  {
   "cell_type": "markdown",
   "metadata": {
    "id": "SA8c09FB_QTs"
   },
   "source": [
    "### 3.9.5 estandarizar nombres carreras"
   ]
  },
  {
   "cell_type": "code",
   "execution_count": null,
   "metadata": {
    "id": "ZKzawZ5OKWA5"
   },
   "outputs": [],
   "source": [
    "#guardar carreras en json para facilitar lectura manual\n",
    "carreras = df_postulantes['Carrera'].dropna().unique()\n",
    "carreras.sort()     #seba: faltaba sort\n",
    "carreras = carreras.tolist()\n",
    "\n",
    "with open(Path('por mapear/carreras.json'), 'w', encoding='utf-8') as f:\n",
    "    json.dump(carreras, f, ensure_ascii=False, indent=2)"
   ]
  },
  {
   "cell_type": "markdown",
   "metadata": {
    "id": "4XOuC-WUNukD"
   },
   "source": [
    "Diccionario con carreras estandarizadas por ChatGpt"
   ]
  },
  {
   "cell_type": "code",
   "execution_count": null,
   "metadata": {
    "id": "u1nhkEtzOCeR"
   },
   "outputs": [],
   "source": [
    "with open(ruta_mapeo_carreras, encoding='utf-8') as f:\n",
    "    carreras_estandarizadas = json.load(f)"
   ]
  },
  {
   "cell_type": "code",
   "execution_count": null,
   "metadata": {
    "id": "BtEjBFa6O_Wx"
   },
   "outputs": [],
   "source": [
    "#mapear diccionario\n",
    "df_postulantes['Carrera'] = df_postulantes['Carrera'].map(carreras_estandarizadas)"
   ]
  },
  {
   "cell_type": "markdown",
   "metadata": {
    "id": "Suz2RTMAKUON"
   },
   "source": [
    "# 4. Cruce e Integración de Datos (Entrega 2)\n",
    "**Objetivo:** Enriquecer el dataset de postulantes con datos de contexto del MINEDUC.\n"
   ]
  },
  {
   "cell_type": "markdown",
   "metadata": {
    "id": "QVeW-lCsGs4-"
   },
   "source": [
    "# 5. EDA\n",
    "**Objetivo:** Entender la distribución de los datos, encontrar patrones, outliers y relaciones clave."
   ]
  },
  {
   "cell_type": "markdown",
   "metadata": {
    "id": "JBlqap5gMF6N"
   },
   "source": [
    "## 5.1 Caracterización histórica de postulantes y seleccionados\n",
    "- Distribución por año\n",
    "- Edad al postular\n",
    "- Universidad y carrera\n",
    "- Comparación entre seleccionados y no seleccionados"
   ]
  },
  {
   "cell_type": "code",
   "execution_count": null,
   "metadata": {
    "colab": {
     "base_uri": "https://localhost:8080/"
    },
    "executionInfo": {
     "elapsed": 48,
     "status": "ok",
     "timestamp": 1761070029493,
     "user": {
      "displayName": "FRANCISCO MAUREIRA",
      "userId": "13842403936807031141"
     },
     "user_tz": 180
    },
    "id": "8BH3RTnrTi06",
    "outputId": "15dfce9f-f826-44ea-cd54-06755cabea0f"
   },
   "outputs": [],
   "source": [
    "df_eda_general = df_postulantes.copy()\n",
    "seleccionados = ((df_postulantes['Resumen Estado Postulación'] == 'Seleccionado')\n",
    "                 & (df_postulantes['Estado de la Postulación'] == 'Acepta compromiso peCh'))\n",
    "df_eda_seleccionados = df_postulantes[seleccionados]\n",
    "\n",
    "df_eda_seleccionados.info()\n",
    "df_eda_general.info()"
   ]
  },
  {
   "cell_type": "markdown",
   "metadata": {
    "id": "hRz8Hmghkin5"
   },
   "source": [
    "### 5.1.1 Comparacion edad de postulantes vs seleccionados"
   ]
  },
  {
   "cell_type": "code",
   "execution_count": null,
   "metadata": {
    "colab": {
     "base_uri": "https://localhost:8080/",
     "height": 575
    },
    "executionInfo": {
     "elapsed": 893,
     "status": "ok",
     "timestamp": 1761070030380,
     "user": {
      "displayName": "FRANCISCO MAUREIRA",
      "userId": "13842403936807031141"
     },
     "user_tz": 180
    },
    "id": "4iKZQnHiltYB",
    "outputId": "e6cdef38-2505-496b-908e-6cdd0bea4fb2"
   },
   "outputs": [],
   "source": [
    "df_sel_comp = df_eda_seleccionados[['Edad']].copy()\n",
    "df_sel_comp['Grupo'] = 'Seleccionados'\n",
    "\n",
    "\n",
    "df_gen_comp = df_eda_general[['Edad']].copy()\n",
    "df_gen_comp['Grupo'] = 'Postulantes'\n",
    "\n",
    "\n",
    "df_comparativo_edad = pd.concat([df_sel_comp, df_gen_comp])\n",
    "\n",
    "df_comparativo_edad = df_comparativo_edad.dropna(subset=['Edad'])\n",
    "df_comparativo_edad = df_comparativo_edad[\n",
    "    (df_comparativo_edad['Edad'] > 18) & (df_comparativo_edad['Edad'] < 70)\n",
    "]\n",
    "\n",
    "plt.figure(figsize=(10, 6))\n",
    "ax = sns.kdeplot(\n",
    "    data=df_comparativo_edad,\n",
    "    x='Edad',\n",
    "    hue='Grupo',\n",
    "    fill=True,\n",
    "    alpha=0.5,\n",
    "    common_norm=False\n",
    ")\n",
    "\n",
    "ax.set_title('Distribución de Edad: Postulantes vs. Seleccionados', fontsize=16)\n",
    "ax.set_xlabel('Edad')\n",
    "ax.set_ylabel('Densidad')\n",
    "ax.set(xlim=(18, 70))\n",
    "plt.show();"
   ]
  },
  {
   "cell_type": "code",
   "execution_count": null,
   "metadata": {
    "colab": {
     "base_uri": "https://localhost:8080/",
     "height": 682
    },
    "executionInfo": {
     "elapsed": 306,
     "status": "ok",
     "timestamp": 1761070030694,
     "user": {
      "displayName": "FRANCISCO MAUREIRA",
      "userId": "13842403936807031141"
     },
     "user_tz": 180
    },
    "id": "8MlBQNvPmN3b",
    "outputId": "5a93f795-26d7-43a8-a734-da00ca623eaf"
   },
   "outputs": [],
   "source": [
    "df_gen_temp = df_eda_general.rename(columns={'Año Pech': 'Año'})\n",
    "df_gen_temp = df_gen_temp.dropna(subset=['Año', 'Edad'])\n",
    "df_gen_temp['Año'] = df_gen_temp['Año'].astype(int)\n",
    "\n",
    "\n",
    "df_sel_temp = df_eda_seleccionados.dropna(subset=['Año', 'Edad'])\n",
    "df_sel_temp['Año'] = df_sel_temp['Año'].astype(int)\n",
    "\n",
    "\n",
    "avg_age_sel = df_sel_temp.groupby('Año')['Edad'].mean().reset_index(name='Edad Media')\n",
    "avg_age_sel['Grupo'] = 'Seleccionados'\n",
    "\n",
    "avg_age_gen = df_gen_temp.groupby('Año')['Edad'].mean().reset_index(name='Edad Media')\n",
    "avg_age_gen['Grupo'] = 'Postulantes'\n",
    "\n",
    "df_comparativo_temporal = pd.concat([avg_age_sel, avg_age_gen])\n",
    "\n",
    "\n",
    "plt.figure(figsize=(12, 6))\n",
    "ax = sns.lineplot(\n",
    "    data=df_comparativo_temporal,\n",
    "    x='Año',\n",
    "    y='Edad Media',\n",
    "    hue='Grupo',\n",
    "    style='Grupo',\n",
    "    markers=True,\n",
    "    linewidth=2.5\n",
    ")\n",
    "\n",
    "ax.set_title('Evolución de la Edad Media: Postulantes vs. Seleccionados', fontsize=16)\n",
    "ax.set_xlabel('Año')\n",
    "ax.set_ylabel('Edad Media')\n",
    "ax.set(xlim=(2010, 2025))\n",
    "plt.grid(True, linestyle='--', alpha=0.6)\n",
    "plt.legend(title='Grupo')\n",
    "plt.show();"
   ]
  },
  {
   "cell_type": "markdown",
   "metadata": {
    "id": "2eCciUk45-mR"
   },
   "source": [
    "Al observar ambos gráficos, se aprecia una clara tendencia al rejuvenecimiento en las edades tanto de los postulantes como de los seleccionados a lo largo de los años. En los últimos periodos, la edad media de los seleccionados se ha mantenido alrededor de cuatro años por debajo de la de los postulantes, lo que sugiere que los candidatos más jóvenes tienden a tener mayores probabilidades de ser seleccionados.\n",
    "\n",
    "Esta diferencia constante plantea una interrogante relevante: ¿la edad actúa realmente como un factor determinante en el proceso de selección, o más bien el enfoque institucional hacia postulantes más jóvenes ha provocado una disminución en la participación de personas mayores?"
   ]
  },
  {
   "cell_type": "markdown",
   "metadata": {
    "id": "jL5zDtrdlTIU"
   },
   "source": [
    "### 5.1.2 Analisis de tendencias etarias en los procesos de seleccion"
   ]
  },
  {
   "cell_type": "code",
   "execution_count": null,
   "metadata": {
    "colab": {
     "base_uri": "https://localhost:8080/",
     "height": 701
    },
    "executionInfo": {
     "elapsed": 365,
     "status": "ok",
     "timestamp": 1761070031067,
     "user": {
      "displayName": "FRANCISCO MAUREIRA",
      "userId": "13842403936807031141"
     },
     "user_tz": 180
    },
    "id": "_WShPjbIhC28",
    "outputId": "dcf9f794-a949-4415-9f09-83e1b1742cb1"
   },
   "outputs": [],
   "source": [
    "plt.figure(figsize=(10, 8))\n",
    "\n",
    "sns.boxplot(data=df_eda_general,\n",
    "            x='Edad',\n",
    "            y='Resumen Estado Postulación')\n",
    "\n",
    "\n",
    "plt.title('Distribución de Edad por Estado de Postulación', fontsize=16)\n",
    "plt.xlabel('Edad', fontsize=12)\n",
    "plt.ylabel('Estado de Postulación', fontsize=12)\n",
    "\n",
    "plt.show()"
   ]
  },
  {
   "cell_type": "code",
   "execution_count": null,
   "metadata": {
    "colab": {
     "base_uri": "https://localhost:8080/",
     "height": 784
    },
    "executionInfo": {
     "elapsed": 1585,
     "status": "ok",
     "timestamp": 1761070168130,
     "user": {
      "displayName": "FRANCISCO MAUREIRA",
      "userId": "13842403936807031141"
     },
     "user_tz": 180
    },
    "id": "aYnIYoyFhHPV",
    "outputId": "06a9c979-0edf-46e7-dd7d-a8dffd45a6dd"
   },
   "outputs": [],
   "source": [
    "conteo_universidades = df_eda_seleccionados['Universidad'].value_counts()\n",
    "\n",
    "N = 20\n",
    "universidades_top_N = conteo_universidades.head(N).index\n",
    "\n",
    "df_top_N = df_eda_seleccionados[\n",
    "    df_eda_seleccionados['Universidad'].isin(universidades_top_N)\n",
    "]\n",
    "\n",
    "\n",
    "plt.figure(figsize=(10, 8))\n",
    "\n",
    "\n",
    "sns.boxplot(data=df_top_N,\n",
    "            x='Edad',\n",
    "            y='Universidad',\n",
    "            order=universidades_top_N)\n",
    "\n",
    "plt.title(f'Edad de Seleccionados por Top {N} Universidades', fontsize=16)\n",
    "plt.xlabel('Edad', fontsize=12)\n",
    "plt.ylabel('Universidad', fontsize=12)\n",
    "plt.tight_layout()\n",
    "plt.show()\n",
    "plt.show()"
   ]
  },
  {
   "cell_type": "markdown",
   "metadata": {
    "id": "4rS4xlcQko13"
   },
   "source": [
    "Se puede observar de los gráficos que la mayoría de los postulantes se concentran entre los 30 y 40 años, este rango etario también predomina entre los seleccionados, lo que sugiere que se favorece a perfiles con cierta experiencia profesional.\n",
    "Los postulantes mas jóvenes tienden ser quienes no completan su postulación o quedan fuera del proceso, mientras que el rango etario de mayores de 50 años participan en menor medida.\n",
    "En cuanto a las universidades, se puede observar que los seleccionados de universidades privadas de la región metropolitana presentan edades mas bajas, mientras que los provenientes de universidades regionales o tradicionales presentan edades mayores, esto refleja diversidad etaria del grupo seleccionado."
   ]
  },
  {
   "cell_type": "markdown",
   "metadata": {
    "id": "ziDaGecZug5w"
   },
   "source": [
    "### 5.1.3 Analisis de distribucion entre universidades, carrera y edad"
   ]
  },
  {
   "cell_type": "code",
   "execution_count": null,
   "metadata": {
    "colab": {
     "base_uri": "https://localhost:8080/",
     "height": 982
    },
    "executionInfo": {
     "elapsed": 749,
     "status": "ok",
     "timestamp": 1761070032231,
     "user": {
      "displayName": "FRANCISCO MAUREIRA",
      "userId": "13842403936807031141"
     },
     "user_tz": 180
    },
    "id": "vEY39YKbmRUj",
    "outputId": "c67a917c-f36e-4956-e4ee-cf1a3f621d57"
   },
   "outputs": [],
   "source": [
    "N = 40\n",
    "\n",
    "# Contamos cuántos seleccionados hay por carrera\n",
    "conteo_carreras = df_eda_seleccionados['Carrera'].value_counts()\n",
    "\n",
    "# Obtenemos la lista de las Top N carreras (sus nombres)\n",
    "carreras_top_N = conteo_carreras.head(N).index\n",
    "\n",
    "# Filtramos el DataFrame para quedarnos solo con las filas de esas Top N carreras\n",
    "df_filtrado_topN = df_eda_seleccionados[\n",
    "    df_eda_seleccionados['Carrera'].isin(carreras_top_N)\n",
    "]\n",
    "altura_figura = max(15, N * 0.45)\n",
    "\n",
    "fig, ax = plt.subplots(1, 1, figsize=(12, altura_figura))\n",
    "\n",
    "sns.boxplot(\n",
    "    data=df_filtrado_topN,\n",
    "    x='Edad',\n",
    "    y='Carrera',\n",
    "    order=carreras_top_N,\n",
    "    ax=ax\n",
    ")\n",
    "\n",
    "ax.set_title(f'Distribución de Edad de las Top {N} Carreras (Seleccionados)', fontsize=16)\n",
    "ax.set_xlabel('Edad', fontsize=12)\n",
    "ax.set_ylabel('Carrera', fontsize=12)\n",
    "\n",
    "\n",
    "plt.show()"
   ]
  },
  {
   "cell_type": "code",
   "execution_count": null,
   "metadata": {
    "colab": {
     "base_uri": "https://localhost:8080/",
     "height": 548
    },
    "executionInfo": {
     "elapsed": 1988,
     "status": "ok",
     "timestamp": 1761070034229,
     "user": {
      "displayName": "FRANCISCO MAUREIRA",
      "userId": "13842403936807031141"
     },
     "user_tz": 180
    },
    "id": "YcaEXHiHdKKm",
    "outputId": "cc9c8378-a079-4220-ad5d-37a799c43fbc"
   },
   "outputs": [],
   "source": [
    "N_universidades = 15\n",
    "N_carreras = 30\n",
    "\n",
    "conteo_universidades = df_eda_seleccionados['Universidad'].value_counts()\n",
    "top_universidades = conteo_universidades.head(N_universidades).index\n",
    "\n",
    "\n",
    "conteo_carreras = df_eda_seleccionados['Carrera'].value_counts()\n",
    "top_carreras = conteo_carreras.head(N_carreras).index\n",
    "\n",
    "\n",
    "df_filtrado_heatmap = df_eda_seleccionados[\n",
    "    df_eda_seleccionados['Universidad'].isin(top_universidades) &\n",
    "    df_eda_seleccionados['Carrera'].isin(top_carreras)\n",
    "]\n",
    "\n",
    "tabla_contingencia = pd.crosstab(\n",
    "    df_filtrado_heatmap['Universidad'],\n",
    "    df_filtrado_heatmap['Carrera']\n",
    ")\n",
    "\n",
    "\n",
    "fig, ax = plt.subplots(1, 1, figsize=(20, 10))\n",
    "\n",
    "sns.heatmap(\n",
    "    tabla_contingencia,\n",
    "    annot=True,\n",
    "    fmt='d',\n",
    "    cmap='viridis',\n",
    "    ax=ax\n",
    ")\n",
    "\n",
    "\n",
    "ax.set_title(f'Conteo de Seleccionados:\\nTop {N_universidades} Universidades vs. Top {N_carreras} Carreras', fontsize=16)\n",
    "ax.set_xlabel('Carrera', fontsize=12)\n",
    "ax.set_ylabel('Universidad', fontsize=12)\n",
    "\n",
    "\n",
    "plt.xticks(rotation=45, ha='right')\n",
    "plt.yticks(rotation=0)\n",
    "\n",
    "fig.tight_layout()\n",
    "plt.show()"
   ]
  },
  {
   "cell_type": "markdown",
   "metadata": {
    "id": "ZsL7EkEwMHqa"
   },
   "source": [
    "## 5.2 Tendencias en el tiempo (por universidad/carrera)\n",
    "Para cumplir con los objetivos del proyecto, no basta con saber qué universidades o carreras tienen más seleccionados en total. Necesitamos entender la evolución y la consistencia de estas cifras (Objetivos 1 y 2). El reclutamiento es un proceso dinámico; las universidades que eran prioritarias hace una década podrían no serlo hoy."
   ]
  },
  {
   "cell_type": "markdown",
   "metadata": {
    "id": "YaXQCHkft_ty"
   },
   "source": [
    "Para analizar las tendencias, se generaron tres visualizaciones clave, cada una con un propósito específico. En todas ellas, se decidió filtrar por el \"Top 10\" (de universidades o carreras) como un equilibrio y para mayor legibilidad, dado que mostrar todas las categorías resultaría en un gráfico de indescifrable."
   ]
  },
  {
   "cell_type": "code",
   "execution_count": null,
   "metadata": {
    "colab": {
     "base_uri": "https://localhost:8080/"
    },
    "executionInfo": {
     "elapsed": 16,
     "status": "ok",
     "timestamp": 1761070034251,
     "user": {
      "displayName": "FRANCISCO MAUREIRA",
      "userId": "13842403936807031141"
     },
     "user_tz": 180
    },
    "id": "2U5B1QMefcO_",
    "outputId": "b9941030-2b4c-4e72-86b3-6c6d34a2b058"
   },
   "outputs": [],
   "source": [
    "# @title\n",
    "df_general_temporal = df_eda_general.rename(columns={'Año Pech': 'Año'})\n",
    "df_general_temporal = df_general_temporal.dropna(subset=['Año'])\n",
    "df_general_temporal['Año'] = df_general_temporal['Año'].astype(int)\n",
    "\n",
    "df_seleccionados_temporal = df_eda_seleccionados.dropna(subset=['Año'])\n",
    "df_seleccionados_temporal['Año'] = df_seleccionados_temporal['Año'].astype(int)"
   ]
  },
  {
   "cell_type": "code",
   "execution_count": null,
   "metadata": {
    "cellView": "form",
    "colab": {
     "base_uri": "https://localhost:8080/",
     "height": 574
    },
    "executionInfo": {
     "elapsed": 676,
     "status": "ok",
     "timestamp": 1761070034929,
     "user": {
      "displayName": "FRANCISCO MAUREIRA",
      "userId": "13842403936807031141"
     },
     "user_tz": 180
    },
    "id": "mNZ0PrxQggeE",
    "outputId": "8dd8a7ea-e932-4bc0-dcfc-0e85f17ca5a8"
   },
   "outputs": [],
   "source": [
    "# @title\n",
    "\n",
    "\n",
    "N_Ues = 10\n",
    "top_universidades = df_seleccionados_temporal['Universidad'].value_counts().head(N_Ues).index\n",
    "\n",
    "\n",
    "df_seleccionados_top_u = df_seleccionados_temporal[\n",
    "    df_seleccionados_temporal['Universidad'].isin(top_universidades)\n",
    "]\n",
    "\n",
    "\n",
    "tendencia_por_universidad = df_seleccionados_top_u.groupby(\n",
    "    ['Año', 'Universidad']\n",
    ").size().reset_index(name='Cantidad Seleccionados')\n",
    "\n",
    "plt.figure(figsize=(14, 8))\n",
    "sns.lineplot(data=tendencia_por_universidad,\n",
    "             x='Año',\n",
    "             y='Cantidad Seleccionados',\n",
    "             hue='Universidad',\n",
    "             style='Universidad',\n",
    "             markers=True,\n",
    "             linewidth=2)\n",
    "\n",
    "plt.title(f'Tendencia de Seleccionados por Año (Top {N_Ues} Universidades)', fontsize=16)\n",
    "plt.xlabel('Año', fontsize=12)\n",
    "plt.ylabel('Cantidad de Seleccionados', fontsize=12)\n",
    "plt.legend(bbox_to_anchor=(1.05, 1), loc='upper left')\n",
    "plt.grid(True, linestyle='--', alpha=0.6)\n",
    "plt.tight_layout()\n",
    "plt.show();"
   ]
  },
  {
   "cell_type": "markdown",
   "metadata": {
    "id": "Dc8kQBQHuY2H"
   },
   "source": [
    "Este gráfico muestra el conteo absoluto de seleccionados provenientes de las 10 universidades con más seleccionados históricos."
   ]
  },
  {
   "cell_type": "markdown",
   "metadata": {
    "id": "c9m-h8CCuy3v"
   },
   "source": [
    "Resultados y Conclusiones Preliminares:\n",
    "\n",
    "- Es evidente que la Pontificia U. Católica de Chile (línea azul sólida) y la U. de Chile (línea verde punteada) dominan en términos de volumen de seleccionados, superandoa las demás.\n",
    "\n",
    "- Las cifras no son estables. Se observa un peak extremo para la PUC alrededor de 2021. Esto genera la pregunta:\n",
    "  1. ¿Qué ocurrió ese año?\n",
    "  2. ¿Se llevo a cabo una campaña de  reclutamiento diferente?\n",
    "  3. ¿Fue un efecto de la pandemia?\n",
    "\n",
    "- Casi todas las universidades muestran una fuerte caída en el número de seleccionados después de 2021-2022. Esto debe investigarse.\n",
    "  1. ¿Es un reflejo de datos incompletos?\n",
    "  2. ¿Es una señal de una crisis en el reclutamiento de Enseña Chile?"
   ]
  },
  {
   "cell_type": "code",
   "execution_count": null,
   "metadata": {
    "cellView": "form",
    "colab": {
     "base_uri": "https://localhost:8080/",
     "height": 495
    },
    "executionInfo": {
     "elapsed": 1127,
     "status": "ok",
     "timestamp": 1761070036065,
     "user": {
      "displayName": "FRANCISCO MAUREIRA",
      "userId": "13842403936807031141"
     },
     "user_tz": 180
    },
    "id": "a-SizM9Rgx7E",
    "outputId": "257766b7-8ca6-4021-f0b5-9e286ae60fe6"
   },
   "outputs": [],
   "source": [
    "# @title\n",
    "df_pivot_u = tendencia_por_universidad.pivot_table(\n",
    "    index='Universidad',\n",
    "    columns='Año',\n",
    "    values='Cantidad Seleccionados'\n",
    ").fillna(0)\n",
    "\n",
    "df_pivot_u_norm = df_pivot_u.apply(lambda x: x / x.sum(), axis=0)\n",
    "\n",
    "\n",
    "plt.figure(figsize=(15, 8))\n",
    "sns.heatmap(df_pivot_u_norm,\n",
    "            annot=True,\n",
    "            fmt='.1%',\n",
    "            cmap='viridis',\n",
    "            linewidths=.5)\n",
    "\n",
    "plt.title(f'% de Seleccionados por Año y Universidad (Top {N_Ues})', fontsize=16)\n",
    "plt.xlabel('Año', fontsize=12)\n",
    "plt.ylabel('Universidad', fontsize=12)\n",
    "plt.show();"
   ]
  },
  {
   "cell_type": "markdown",
   "metadata": {
    "id": "7eolmypayvyP"
   },
   "source": [
    "Este grafico muestra qué porcentaje del total de seleccionados de un año específico aportó cada una de las Top 10 universidades."
   ]
  },
  {
   "cell_type": "markdown",
   "metadata": {
    "id": "m8l79KvJzJTf"
   },
   "source": [
    "Resultados y Conclusiones Preliminares:\n",
    "\n",
    "Este gráfico responde directamente a la Pregunta 5. Confirma que la concentración en la PUC y U. de Chile es real. En la mayoría de los años, estas dos instituciones suman entre el 40% y el 60% de todos los seleccionados  Esto sugiere un fuerte sesgo histórico hacia estas instituciones.\n",
    "\n",
    "La U. de Concepción y PUCV muestran una participación proporcional consistente (8%-15%) del total anual. Esto las posiciona como objetivos de reclutamiento fiables."
   ]
  },
  {
   "cell_type": "code",
   "execution_count": null,
   "metadata": {
    "cellView": "form",
    "colab": {
     "base_uri": "https://localhost:8080/",
     "height": 577
    },
    "executionInfo": {
     "elapsed": 823,
     "status": "ok",
     "timestamp": 1761070036895,
     "user": {
      "displayName": "FRANCISCO MAUREIRA",
      "userId": "13842403936807031141"
     },
     "user_tz": 180
    },
    "id": "rBU5hIlDhCZw",
    "outputId": "8acebe2d-c3b1-440e-8bae-e0aa7b4c76ac"
   },
   "outputs": [],
   "source": [
    "# @title\n",
    "N_Carreras = 10\n",
    "top_carreras = df_seleccionados_temporal['Carrera'].value_counts().head(N_Carreras).index\n",
    "\n",
    "df_seleccionados_top_c = df_seleccionados_temporal[\n",
    "    df_seleccionados_temporal['Carrera'].isin(top_carreras)\n",
    "]\n",
    "\n",
    "tendencia_por_carrera = df_seleccionados_top_c.groupby(\n",
    "    ['Año', 'Carrera']\n",
    ").size().reset_index(name='Cantidad Seleccionados')\n",
    "\n",
    "plt.figure(figsize=(14, 8))\n",
    "sns.lineplot(data=tendencia_por_carrera,\n",
    "             x='Año',\n",
    "             y='Cantidad Seleccionados',\n",
    "             hue='Carrera',\n",
    "             style='Carrera',\n",
    "             markers=True,\n",
    "             linewidth=2)\n",
    "\n",
    "plt.title(f'Tendencia de Seleccionados por Año (Top {N_Carreras} Carreras)', fontsize=16)\n",
    "plt.xlabel('Año', fontsize=12)\n",
    "plt.ylabel('Cantidad de Seleccionados', fontsize=12)\n",
    "plt.legend(bbox_to_anchor=(1.05, 1), loc='upper left')\n",
    "plt.grid(True, linestyle='--', alpha=0.6)\n",
    "plt.tight_layout()\n",
    "plt.show();"
   ]
  },
  {
   "cell_type": "markdown",
   "metadata": {
    "id": "003S_zUe0Hwb"
   },
   "source": [
    "El grafico muestra el número de seleccionados provenientes de las 10 carreras más frecuentes en la historia del programa."
   ]
  },
  {
   "cell_type": "markdown",
   "metadata": {
    "id": "ZqkzNnK81Bbo"
   },
   "source": [
    "Resultados y Conclusiones Preliminares:\n",
    "\n",
    "- El hallazgo más importante es la dominancia de dos carreras: Ingenieria Civil (línea roja punteada) e Ingeniería Comercial (línea azul). Históricamente, estas dos carreras son las que mas aportan a los seleccionados.\n",
    "\n",
    "- Esto impacta directamente el Objetivo 3 (identificar carreras prioritarias). Estas dos son, por volumen, las más importantes.\n",
    "\n",
    "- Este gráfico genera preguntas interesantes para Enseña Chile:\n",
    "\n",
    "  1. ¿Por qué estas dos carreras? ¿Son el foco principal de las campañas de reclutamiento? ¿O son las que calzan con el perfil de reclutamiento?\n",
    "\n",
    "  2. ¿Por qué carreras aparentemente más alineadas con la misión como las Pedagogías tienen números tan bajos?\n",
    "\n",
    "  3. ¿Desea la fundación diversificar este perfil?"
   ]
  },
  {
   "cell_type": "markdown",
   "metadata": {
    "id": "DY83R4_7MleU"
   },
   "source": [
    "# 6. Estimación de Candidatos Idóneos (Entrega 2)"
   ]
  },
  {
   "cell_type": "markdown",
   "metadata": {
    "id": "X6V5Sw2KMt2m"
   },
   "source": [
    "## 6.1 Definición del perfil idóneo\n",
    "Perfil idóneo:\n",
    "\n",
    "A. Características generales:\n",
    "\n",
    "1. Profesionales con edad máxima 30 años (deseable, no excluyente)\n",
    "\n",
    "2. Posibilidad de impartir matemáticas o lenguaje.\n",
    "\n",
    "B. Competencias:\n",
    "\n",
    "1. Experiencias de liderazgo.\n",
    "\n",
    "2. Alineación a la visión de Enseña Chile.\n",
    "\n",
    "3. Apertura al feedback.\n",
    "\n",
    "4. Relaciones interpersonales."
   ]
  },
  {
   "cell_type": "markdown",
   "metadata": {
    "id": "lfVlm-x-M53d"
   },
   "source": [
    "## 6.2 Estimar cuántos candidatos idóneos hay por universidad-carrera"
   ]
  },
  {
   "cell_type": "markdown",
   "metadata": {
    "id": "zoQhuFwENMpW"
   },
   "source": [
    "# 7. Categorización de Universidades y Carreras (Entrega 2)"
   ]
  },
  {
   "cell_type": "markdown",
   "metadata": {
    "id": "fjjp0vPMNQky"
   },
   "source": [
    "## 7.1 Definir criterios\n",
    "- Proporción de seleccionados\n",
    "- Número estimado de candidatos idóneos\n",
    "- Alineación histórica al perfil exitoso"
   ]
  },
  {
   "cell_type": "markdown",
   "metadata": {
    "id": "j7DJm746NU_z"
   },
   "source": [
    "## 7.2 Crear categorías: Alta, Media, Baja prioridad"
   ]
  },
  {
   "cell_type": "markdown",
   "metadata": {
    "id": "GccYyk7pNZd4"
   },
   "source": [
    "## 7.3 Visualización final de categorías"
   ]
  },
  {
   "cell_type": "markdown",
   "metadata": {
    "id": "yQwdkzBgNjOx"
   },
   "source": [
    "#8. Modelado Predictivo (Entrega 2)"
   ]
  },
  {
   "cell_type": "markdown",
   "metadata": {
    "id": "7ll5Ru9NNmTR"
   },
   "source": [
    "## 8.1 Objetivo: predecir la probabilidad de selección\n",
    "\n",
    "X: edad, universidad, carrera, experiencia, etc.\n",
    "\n",
    "y: seleccionado (sí/no)"
   ]
  },
  {
   "cell_type": "markdown",
   "metadata": {
    "id": "UB3YFR9LNtVP"
   },
   "source": [
    "## 8.2 Modelos posibles\n",
    "- Logistic Regression\n",
    "- Random Forest\n",
    "- Árboles de decisión"
   ]
  },
  {
   "cell_type": "markdown",
   "metadata": {
    "id": "BURA2dS0Nzmc"
   },
   "source": [
    "## 8.3 Evaluación y métricas"
   ]
  }
 ],
 "metadata": {
  "colab": {
   "collapsed_sections": [
    "J9Welep9Hp9a",
    "uOZWKl5ChLbd",
    "CY7Ao6cmYTmg",
    "RhiedmXGPrDT",
    "cCWjkjzyOqhj",
    "tMYSfsY2pUvB",
    "8qbw7eAg5W3M",
    "csUQ1jHlKCZu",
    "_3qPol909yLF",
    "REBfhICw1jQx",
    "qIFzvjDU7bSX",
    "2V18YvjRkL_L"
   ],
   "provenance": []
  },
  "kernelspec": {
   "display_name": "Python 3 (ipykernel)",
   "language": "python",
   "name": "python3"
  },
  "language_info": {
   "codemirror_mode": {
    "name": "ipython",
    "version": 3
   },
   "file_extension": ".py",
   "mimetype": "text/x-python",
   "name": "python",
   "nbconvert_exporter": "python",
   "pygments_lexer": "ipython3",
   "version": "3.12.9"
  }
 },
 "nbformat": 4,
 "nbformat_minor": 4
}
